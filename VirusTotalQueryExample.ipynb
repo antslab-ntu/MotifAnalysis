{
 "cells": [
  {
   "cell_type": "code",
   "execution_count": 1,
   "metadata": {
    "collapsed": true
   },
   "outputs": [],
   "source": [
    "# Call 'VirusTotalQuery.ipynb' to get reports\n",
    "%run VirusTotalQuery.ipynb"
   ]
  },
  {
   "cell_type": "code",
   "execution_count": null,
   "metadata": {
    "collapsed": false
   },
   "outputs": [],
   "source": [
    "import json\n",
    "from time import sleep\n",
    "\n",
    "# main function\n",
    "dataRootPath = \"./hooklogs/testData\" # set your hooklogs path\n",
    "outputDirPath = \"./VTReport/\" # set your output dir path\n",
    "\n",
    "hash_list = listMalwrHash(dataRootPath)\n",
    "\n",
    "counter = 0 # use for VirusTotal maximum requests limit\n",
    "\n",
    "# query loop\n",
    "for malwrHash in hash_list :\n",
    "    if counter == 600: # because my limit is 600/per min\n",
    "#         print \"sleeping\"\n",
    "        sleep(30) # sleep 30secs\n",
    "#         print \"wake up\"\n",
    "        counter=0\n",
    "    \n",
    "    report = queryReport(malwrHash)\n",
    "#     print report\n",
    "    \n",
    "    if not os.path.exists(outputDirPath):\n",
    "        os.makedirs(outputDirPath)\n",
    "    filePath = os.path.join(outputDirPath, malwrHash + \".txt\")\n",
    "    \n",
    "    reportFile = open(filePath, \"w\")\n",
    "    json.dump(report, reportFile) # dump json struct. (like dict[])\n",
    "    reportFile.close()\n",
    "    \n",
    "    counter+=1\n"
   ]
  }
 ],
 "metadata": {
  "kernelspec": {
   "display_name": "Python 2",
   "language": "python",
   "name": "python2"
  },
  "language_info": {
   "codemirror_mode": {
    "name": "ipython",
    "version": 2
   },
   "file_extension": ".py",
   "mimetype": "text/x-python",
   "name": "python",
   "nbconvert_exporter": "python",
   "pygments_lexer": "ipython2",
   "version": "2.7.11"
  }
 },
 "nbformat": 4,
 "nbformat_minor": 0
}
